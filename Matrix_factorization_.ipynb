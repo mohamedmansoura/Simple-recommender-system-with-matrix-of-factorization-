{
  "nbformat": 4,
  "nbformat_minor": 0,
  "metadata": {
    "colab": {
      "name": "Matrix_factorization .ipynb",
      "provenance": [],
      "collapsed_sections": []
    },
    "kernelspec": {
      "name": "python3",
      "display_name": "Python 3"
    }
  },
  "cells": [
    {
      "cell_type": "code",
      "metadata": {
        "id": "FL1KEvdccbxi",
        "colab_type": "code",
        "colab": {}
      },
      "source": [
        "import numpy as np\n"
      ],
      "execution_count": 0,
      "outputs": []
    },
    {
      "cell_type": "code",
      "metadata": {
        "id": "Tf98qYzdcRWL",
        "colab_type": "code",
        "colab": {}
      },
      "source": [
        "# supose we have rating matrix of 5 users and 5 items, 0 value means that an user 'i' didn't  rate  an item 'j'\n",
        "data = np.array([\n",
        "    [3, 5, 2, 0],\n",
        "    [2, 1, 0, 4],\n",
        "    [1, 0, 0, 3],\n",
        "    [0, 5, 0, 4],\n",
        "    [0, 3, 2, 5],\n",
        "])"
      ],
      "execution_count": 0,
      "outputs": []
    },
    {
      "cell_type": "code",
      "metadata": {
        "id": "Vhgivj2IWz-4",
        "colab_type": "code",
        "colab": {}
      },
      "source": [
        "num_users= data.shape[0]\n",
        "num_movie=data.shape[1]\n",
        "K=2       # number of factors\n",
        "alpha=0.1 # learning rate parameter\n",
        "beta=0.01 # regularization parameter \n",
        "iterations=20 # number of epochs \n",
        "\n",
        "\n"
      ],
      "execution_count": 0,
      "outputs": []
    },
    {
      "cell_type": "code",
      "metadata": {
        "id": "HXPhqF1McOd_",
        "colab_type": "code",
        "colab": {}
      },
      "source": [
        "#  Initialize user  feature vector\n",
        "Pu = np.random.normal(scale=1./K, size=(num_users,K))\n",
        "#  Initialize movie  feature vector\n",
        "Qi = np.random.normal(scale=1./K, size=(num_movie,K))\n",
        "\n"
      ],
      "execution_count": 0,
      "outputs": []
    },
    {
      "cell_type": "code",
      "metadata": {
        "id": "VuL7pEaocPq5",
        "colab_type": "code",
        "colab": {}
      },
      "source": [
        "# Initialize the biases\n",
        "bu = np.zeros(num_users)\n",
        "bi = np.zeros(num_movie)\n",
        "b = np.mean(data[np.where(data != 0)])\n",
        "\n"
      ],
      "execution_count": 0,
      "outputs": []
    },
    {
      "cell_type": "code",
      "metadata": {
        "id": "APEpf0sbc_BI",
        "colab_type": "code",
        "colab": {}
      },
      "source": [
        "# Create a list of training samples\n",
        "samples = [(i, j, data[i, j])\n",
        "  for i in range(num_users)\n",
        "  for j in range(num_movie)\n",
        "  if data[i, j] > 0\n",
        "]"
      ],
      "execution_count": 0,
      "outputs": []
    },
    {
      "cell_type": "code",
      "metadata": {
        "id": "T2BJAY6Ab-Ca",
        "colab_type": "code",
        "colab": {}
      },
      "source": [
        "# training \n",
        "training = []\n",
        "for i in range(iterations):\n",
        "  np.random.shuffle(samples)\n",
        "\n",
        "  # stocastic gradient decent\n",
        "  for i, j, r in samples:    \n",
        "    prediction = b + bu[i] + bi[j] + Pu[i, :].dot(Qi[j, :].T)\n",
        "    e = (r - prediction)\n",
        "    # Update biases\n",
        "    bu[i] += alpha * (e - beta * bu[i])\n",
        "    bi[j] += alpha * (e - beta * bi[j])\n",
        "\n",
        "    # Update user and item latent feature matrices\n",
        "    Pu[i, :] += alpha * (e * Qi[j, :] - beta * Pu[i,:])\n",
        "    Qi[j, :] += alpha * (e * Pu[i, :] -beta * Qi[j,:])\n",
        "\n",
        "  xs, ys = data.nonzero()\n",
        "  predicted = b + bu[:,np.newaxis] + bi[np.newaxis:,] + Pu.dot(Qi.T)\n",
        "  error = 0\n",
        "  for x, y in zip(xs, ys):\n",
        "    error += pow(data[x, y] - predicted[x, y], 2)\n",
        "  mse=np.sqrt(error)\n",
        "  training.append((i, mse))"
      ],
      "execution_count": 0,
      "outputs": []
    },
    {
      "cell_type": "code",
      "metadata": {
        "id": "HqNsrm5IhKkY",
        "colab_type": "code",
        "colab": {
          "base_uri": "https://localhost:8080/",
          "height": 105
        },
        "outputId": "e7c46c9a-9b85-41bd-ecf4-61c9b60ebbab"
      },
      "source": [
        "# predict the missing rate \n",
        "print(predicted)"
      ],
      "execution_count": 9,
      "outputs": [
        {
          "output_type": "stream",
          "text": [
            "[[2.91001423 5.0007743  2.05593948 5.02169733]\n",
            " [2.00227448 1.01568748 2.16314488 3.99539966]\n",
            " [1.13416502 3.08880645 1.30773184 2.89294625]\n",
            " [2.2098558  4.97248216 1.9917281  4.04406043]\n",
            " [2.75725063 2.99897229 1.98637849 4.98399939]]\n"
          ],
          "name": "stdout"
        }
      ]
    },
    {
      "cell_type": "code",
      "metadata": {
        "id": "fCMZIacMhQic",
        "colab_type": "code",
        "colab": {
          "base_uri": "https://localhost:8080/",
          "height": 34
        },
        "outputId": "e52732d9-2a02-4072-f4e6-a5b78a07cbc3"
      },
      "source": [
        "#mean square error\n",
        "print(mse)"
      ],
      "execution_count": 10,
      "outputs": [
        {
          "output_type": "stream",
          "text": [
            "0.2100038788673505\n"
          ],
          "name": "stdout"
        }
      ]
    },
    {
      "cell_type": "code",
      "metadata": {
        "id": "sI9B9w4ChkR7",
        "colab_type": "code",
        "colab": {
          "base_uri": "https://localhost:8080/",
          "height": 105
        },
        "outputId": "3a639991-4cad-4372-919a-adbbc0a201e6"
      },
      "source": [
        "#user vector\n",
        "print(Pu)"
      ],
      "execution_count": 12,
      "outputs": [
        {
          "output_type": "stream",
          "text": [
            "[[-0.51617291 -0.76553397]\n",
            " [-0.36766614  0.98410921]\n",
            " [ 0.49132729 -0.48967082]\n",
            " [ 0.32480717 -0.97434251]\n",
            " [-0.96331788  0.17939071]]\n"
          ],
          "name": "stdout"
        }
      ]
    },
    {
      "cell_type": "code",
      "metadata": {
        "id": "nKpiA3Hqk8Pf",
        "colab_type": "code",
        "colab": {
          "base_uri": "https://localhost:8080/",
          "height": 34
        },
        "outputId": "502d63aa-a58c-4e22-e2d0-2eca12234d25"
      },
      "source": [
        "#feature vector of the first user \n",
        "print(Pu[0])"
      ],
      "execution_count": 13,
      "outputs": [
        {
          "output_type": "stream",
          "text": [
            "[-0.51617291 -0.76553397]\n"
          ],
          "name": "stdout"
        }
      ]
    },
    {
      "cell_type": "code",
      "metadata": {
        "id": "cTUJmHIJk-Wq",
        "colab_type": "code",
        "colab": {
          "base_uri": "https://localhost:8080/",
          "height": 87
        },
        "outputId": "d5b8798e-2fed-49e5-bbbc-a84644c4594f"
      },
      "source": [
        "#Item vector\n",
        "print(Qi)"
      ],
      "execution_count": 14,
      "outputs": [
        {
          "output_type": "stream",
          "text": [
            "[[-0.4910988   0.13532843]\n",
            " [-0.13637223 -1.65362283]\n",
            " [ 0.39054924  0.64058257]\n",
            " [-0.83071267  0.09639309]]\n"
          ],
          "name": "stdout"
        }
      ]
    },
    {
      "cell_type": "code",
      "metadata": {
        "id": "btkJxUt_vlGO",
        "colab_type": "code",
        "colab": {
          "base_uri": "https://localhost:8080/",
          "height": 34
        },
        "outputId": "4bfb77f0-d500-4776-e49c-e80b686dd1c5"
      },
      "source": [
        "# user bais  \n",
        "print(bu)\n"
      ],
      "execution_count": 15,
      "outputs": [
        {
          "output_type": "stream",
          "text": [
            "[ 0.52300636 -0.54857836 -0.79539284  0.26410997  0.02277523]\n"
          ],
          "name": "stdout"
        }
      ]
    },
    {
      "cell_type": "code",
      "metadata": {
        "id": "NCBHPWT3xJNj",
        "colab_type": "code",
        "colab": {
          "base_uri": "https://localhost:8080/",
          "height": 34
        },
        "outputId": "debd3f0c-5e4f-49e2-8449-064c3e7bdabf"
      },
      "source": [
        "#user items \n",
        "print(bi)"
      ],
      "execution_count": 16,
      "outputs": [
        {
          "output_type": "stream",
          "text": [
            "[-0.83980859  0.06454876 -0.85201131  1.0667687 ]\n"
          ],
          "name": "stdout"
        }
      ]
    }
  ]
}